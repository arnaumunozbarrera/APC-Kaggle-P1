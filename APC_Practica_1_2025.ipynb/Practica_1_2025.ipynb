{
 "cells": [
  {
   "cell_type": "markdown",
   "metadata": {},
   "source": [
    "# Pràctica 1: Resolem un problema de classificacio\n",
    "\n",
    "### Alumnes\n",
    "\n",
    "| Nom de l'alumne            | NIU     |\n",
    "| -------------------------- | ------- |\n",
    "| Arnau Muñoz Barrera        | 1665982 |\n",
    "| José Ortín López           | 1667573 |\n",
    "| Lucas Aviñó Roig           | 1566876 |\n",
    "\n",
    "## 1. EDA (exploratory data analysis)\n",
    "Inicialment, importem totes les llibreries i utilitats que utilitzarem"
   ]
  },
  {
   "cell_type": "code",
   "execution_count": 9,
   "metadata": {},
   "outputs": [
    {
     "name": "stdout",
     "output_type": "stream",
     "text": [
      "Defaulting to user installation because normal site-packages is not writeable\n",
      "Requirement already satisfied: pandas in c:\\users\\arnau\\appdata\\roaming\\python\\python313\\site-packages (2.3.3)\n",
      "Requirement already satisfied: seaborn in c:\\users\\arnau\\appdata\\roaming\\python\\python313\\site-packages (0.13.2)\n",
      "Requirement already satisfied: scikit-learn in c:\\users\\arnau\\appdata\\roaming\\python\\python313\\site-packages (1.7.2)\n",
      "Requirement already satisfied: category_encoders in c:\\users\\arnau\\appdata\\roaming\\python\\python313\\site-packages (2.8.1)\n",
      "Requirement already satisfied: scikit-optimize in c:\\users\\arnau\\appdata\\roaming\\python\\python313\\site-packages (0.10.2)\n",
      "Requirement already satisfied: scipy in c:\\users\\arnau\\appdata\\roaming\\python\\python313\\site-packages (1.16.2)\n",
      "Requirement already satisfied: numpy>=1.26.0 in c:\\users\\arnau\\appdata\\roaming\\python\\python313\\site-packages (from pandas) (2.2.6)\n",
      "Requirement already satisfied: python-dateutil>=2.8.2 in c:\\users\\arnau\\appdata\\roaming\\python\\python313\\site-packages (from pandas) (2.9.0.post0)\n",
      "Requirement already satisfied: pytz>=2020.1 in c:\\users\\arnau\\appdata\\roaming\\python\\python313\\site-packages (from pandas) (2025.2)\n",
      "Requirement already satisfied: tzdata>=2022.7 in c:\\users\\arnau\\appdata\\roaming\\python\\python313\\site-packages (from pandas) (2025.2)\n",
      "Requirement already satisfied: matplotlib!=3.6.1,>=3.4 in c:\\users\\arnau\\appdata\\roaming\\python\\python313\\site-packages (from seaborn) (3.10.3)\n",
      "Requirement already satisfied: joblib>=1.2.0 in c:\\users\\arnau\\appdata\\roaming\\python\\python313\\site-packages (from scikit-learn) (1.5.2)\n",
      "Requirement already satisfied: threadpoolctl>=3.1.0 in c:\\users\\arnau\\appdata\\roaming\\python\\python313\\site-packages (from scikit-learn) (3.6.0)\n",
      "Requirement already satisfied: patsy>=0.5.1 in c:\\users\\arnau\\appdata\\roaming\\python\\python313\\site-packages (from category_encoders) (1.0.1)\n",
      "Requirement already satisfied: statsmodels>=0.9.0 in c:\\users\\arnau\\appdata\\roaming\\python\\python313\\site-packages (from category_encoders) (0.14.5)\n",
      "Requirement already satisfied: pyaml>=16.9 in c:\\users\\arnau\\appdata\\roaming\\python\\python313\\site-packages (from scikit-optimize) (25.7.0)\n",
      "Requirement already satisfied: packaging>=21.3 in c:\\users\\arnau\\appdata\\roaming\\python\\python313\\site-packages (from scikit-optimize) (24.2)\n",
      "Requirement already satisfied: contourpy>=1.0.1 in c:\\users\\arnau\\appdata\\roaming\\python\\python313\\site-packages (from matplotlib!=3.6.1,>=3.4->seaborn) (1.3.2)\n",
      "Requirement already satisfied: cycler>=0.10 in c:\\users\\arnau\\appdata\\roaming\\python\\python313\\site-packages (from matplotlib!=3.6.1,>=3.4->seaborn) (0.12.1)\n",
      "Requirement already satisfied: fonttools>=4.22.0 in c:\\users\\arnau\\appdata\\roaming\\python\\python313\\site-packages (from matplotlib!=3.6.1,>=3.4->seaborn) (4.58.1)\n",
      "Requirement already satisfied: kiwisolver>=1.3.1 in c:\\users\\arnau\\appdata\\roaming\\python\\python313\\site-packages (from matplotlib!=3.6.1,>=3.4->seaborn) (1.4.8)\n",
      "Requirement already satisfied: pillow>=8 in c:\\users\\arnau\\appdata\\roaming\\python\\python313\\site-packages (from matplotlib!=3.6.1,>=3.4->seaborn) (11.2.1)\n",
      "Requirement already satisfied: pyparsing>=2.3.1 in c:\\users\\arnau\\appdata\\roaming\\python\\python313\\site-packages (from matplotlib!=3.6.1,>=3.4->seaborn) (3.2.3)\n",
      "Requirement already satisfied: PyYAML in c:\\users\\arnau\\appdata\\roaming\\python\\python313\\site-packages (from pyaml>=16.9->scikit-optimize) (6.0.2)\n",
      "Requirement already satisfied: six>=1.5 in c:\\users\\arnau\\appdata\\roaming\\python\\python313\\site-packages (from python-dateutil>=2.8.2->pandas) (1.17.0)\n",
      "Note: you may need to restart the kernel to use updated packages.\n"
     ]
    }
   ],
   "source": [
    "%pip install pandas seaborn scikit-learn category_encoders scikit-optimize scipy\n",
    "\n",
    "import numpy as np\n",
    "import matplotlib.pyplot as plt\n",
    "from matplotlib.cm import gist_heat_r\n",
    "import pandas as pd\n",
    "import seaborn as sns\n",
    "\n",
    "from sklearn.preprocessing import MinMaxScaler \n",
    "from sklearn.neighbors import KNeighborsClassifier\n",
    "from sklearn.metrics import *\n",
    "\n",
    "from sklearn.pipeline import Pipeline\n",
    "from sklearn.linear_model import LogisticRegression, SGDClassifier\n",
    "from sklearn.neighbors import KNeighborsClassifier\n",
    "from sklearn.svm import SVC\n",
    "from sklearn.tree import DecisionTreeClassifier\n",
    "from sklearn.ensemble import RandomForestClassifier, AdaBoostClassifier\n",
    "from sklearn.model_selection import *\n",
    "\n",
    "from category_encoders.ordinal import OrdinalEncoder\n",
    "from sklearn.decomposition import PCA\n",
    "from skopt import BayesSearchCV\n",
    "from skopt.space import Real, Integer, Categorical\n",
    "\n",
    "from scipy.stats import entropy\n",
    "\n",
    "pd.set_option('display.float_format', lambda x: '%.4f' % x)\n",
    "pd.set_option('display.max_rows', 20)\n",
    "pd.set_option('display.max_columns', 50)\n",
    "\n",
    "plt.rcParams['figure.dpi'] = 80\n",
    "\n",
    "import warnings\n",
    "warnings.simplefilter(action='ignore')"
   ]
  },
  {
   "cell_type": "markdown",
   "metadata": {
    "id": "oZMnmdDBCl7F"
   },
   "source": [
    "\n",
    "## Objectius\n",
    "\n",
    "Els objectius d’aquesta pràctica són:\n",
    "\n",
    "* Aplicar els coneixements adquirits sobre classificació, tècniques d’emplenament de valors perduts i validació creuada.\n",
    "\n",
    "* Comparar diferents models de classificació.\n",
    "\n",
    "* Realitzar la cerca d’hiperparàmetres.\n",
    "\n",
    "* Entendre i implementar la validació creuada.\n",
    "\n",
    "* Analitzar detalladament els resultats obtinguts durant l’entrenament dels diferents models.\n",
    "\n",
    "Aquesta pràctica és prèvia al cas Kaggle que realitzareu durant la segona part de l’assignatura. En aquesta primera fase les preguntes estan definides, però us ha de servir d’aprenentatge per saber com estructurar un projecte d’aprenentatge automàtic, ja que en el cas Kaggle no tindreu les preguntes pautades.\n",
    "\n",
    "## Bases de dades\n",
    "En aquesta pràctica farem servir la base de dades del *Titanic*. L’atribut a predir és *Survived*, que indica si cada passatger va sobreviure o no.\n",
    "\n",
    "[Enllaç a les dades](https://www.kaggle.com/c/titanic/data)\n",
    "\n",
    "## Treball en grup\n",
    "\n",
    "La pràctica es durà a terme en grups de 2 o 3 persones. En casos excepcionals i degudament justificats, es podrà realitzar de manera individual.\n",
    "\n",
    "## Seguiment i entrega de la pràctica\n",
    "\n",
    "A la Pràctica 1 es proposen diverses tasques per fer una comparació adequada dels resultats obtinguts amb diferents mètodes de classificació aplicats a una mateixa base de dades.\n",
    "\n",
    "Es realitzaran sessions de seguiment del treball, orientades a resoldre dubtes sobre les dades, aclarir els objectius de cada apartat de l’enunciat i comentar els resultats obtinguts durant l’anàlisi. És molt recomanable assistir-hi amb el treball ja avançat per tal de poder aprofitar millor la sessió.\n",
    "\n",
    "Pel que fa a l’entrega, caldrà lliurar a través de Caronte el següent:\n",
    "\n",
    "1. *Memòria* en format PDF o en la mateixa notebook, explicant els resultats obtinguts sobre la base de dades i incloent el codi en Python corresponent. Aquesta nota serà la mateixa per a tots els membres del grup. (9 punts)\n",
    "\n",
    "2. *Presentació* amb els resultats (màxim 4 minuts). Aquesta nota serà individual. (1 punt)\n",
    "\n",
    "*Nota*: En cas d’entregar la memòria en format PDF, cal adjuntar el codi en Python per separat. Si s’entrega en format notebook, aquest mateix document ja servirà com a codi.\n"
   ]
  },
  {
   "cell_type": "markdown",
   "metadata": {
    "id": "6zdgsxfuCl7S"
   },
   "source": [
    "# Continguts que s’avaluaran en la pràctica\n",
    "\n",
    "1. **EDA (Exploratory Data Analysis)** – 1 punt\n",
    "\n",
    "* Anàlisi de la mida i tipologia de les dades (0.25 pts)\n",
    "\n",
    "* Primera valoració de correlacions (0.5 pts)\n",
    "\n",
    "* Anàlisi de l’atribut target (0.25 pts)\n",
    "\n",
    "2. **Preprocessament** – 2 punts\n",
    "\n",
    "* Eliminació de valors nuls (0.5 pts)\n",
    "\n",
    "* Codificació de variables categòriques (0.75 pts)\n",
    "\n",
    "* Altres (PCA, normalització, etc.) (0.75 pts)\n",
    "\n",
    "3. **Selecció de mètriques** – 1.5 punts\n",
    "\n",
    "* Selecció de la mètrica més adequada pel problema (0.75 pts)\n",
    "\n",
    "* Visualització de corbes ROC/AUC (0.75 pts)\n",
    "\n",
    "4. **Selecció de models amb validació creuada** – 4 punts\n",
    "\n",
    "* Selecció del millor model (2 pts)\n",
    "\n",
    "* Cerca d’hiperparàmetres (2 pts)\n",
    "\n",
    "5. **Anàlisi final** – 1.5 punts\n",
    "\n",
    "Cal tenir en compte que les puntuacions dins de cada apartat són orientatives. La pràctica està estructurada a partir d’un seguit de preguntes guia en cada secció, relacionades amb els continguts avaluables. **No cal respondre-les totes**: el seu objectiu és ajudar-vos a reflexionar i aprofundir en els aspectes clau de cada apartat. Tot i així, és recomanable llegir-les prèviament i tenir-les en compte durant el desenvolupament de la pràctica.\n",
    "\n",
    "**IMPORTANT**: El criteri principal d’avaluació serà la capacitat de mantenir una narrativa coherent a mesura que es presenten els resultats. No es penalitzarà deixar alguna pregunta sense respondre, sempre que el procés seguit i les conclusions extretes a partir dels resultats siguin consistents i ben fonamentats."
   ]
  },
  {
   "cell_type": "markdown",
   "metadata": {
    "id": "fuENGdYFCl7S"
   },
   "source": [
    "### 1. EDA (*Exploratory Data Analysis*) – **1 punt**\n",
    "\n",
    "Abans de començar, és fonamental analitzar la base de dades assignada.  "
   ]
  },
  {
   "cell_type": "code",
   "execution_count": 22,
   "metadata": {},
   "outputs": [
    {
     "name": "stdout",
     "output_type": "stream",
     "text": [
      "Estructura del dataframe:  (891, 12)\n",
      "   PassengerId  Survived  Pclass  \\\n",
      "0            1         0       3   \n",
      "1            2         1       1   \n",
      "2            3         1       3   \n",
      "3            4         1       1   \n",
      "4            5         0       3   \n",
      "\n",
      "                                                Name     Sex     Age  SibSp  \\\n",
      "0                            Braund, Mr. Owen Harris    male 22.0000      1   \n",
      "1  Cumings, Mrs. John Bradley (Florence Briggs Th...  female 38.0000      1   \n",
      "2                             Heikkinen, Miss. Laina  female 26.0000      0   \n",
      "3       Futrelle, Mrs. Jacques Heath (Lily May Peel)  female 35.0000      1   \n",
      "4                           Allen, Mr. William Henry    male 35.0000      0   \n",
      "\n",
      "   Parch            Ticket    Fare Cabin Embarked  \n",
      "0      0         A/5 21171  7.2500   NaN        S  \n",
      "1      0          PC 17599 71.2833   C85        C  \n",
      "2      0  STON/O2. 3101282  7.9250   NaN        S  \n",
      "3      0            113803 53.1000  C123        S  \n",
      "4      0            373450  8.0500   NaN        S  \n"
     ]
    }
   ],
   "source": [
    "df = pd.read_csv('titanic/train.csv')\n",
    "print(\"Estructura del dataframe: \", df.shape)\n",
    "\n",
    "# View complete dataframe with print(df)\n",
    "print(df.head(5))"
   ]
  },
  {
   "cell_type": "markdown",
   "metadata": {},
   "source": [
    "**Preguntes:**  \n",
    "-  **Quants atributs té la base de dades?**  \n"
   ]
  },
  {
   "cell_type": "code",
   "execution_count": 11,
   "metadata": {},
   "outputs": [
    {
     "name": "stdout",
     "output_type": "stream",
     "text": [
      "La nostra base de dades té 12 atributs\n"
     ]
    }
   ],
   "source": [
    "# La base de dades té aquests atributs:\n",
    "print('La nostra base de dades té',df.shape[1], 'atributs')"
   ]
  },
  {
   "cell_type": "markdown",
   "metadata": {},
   "source": [
    "* **Quin tipus d'atributs tens? (Númerics, temporals, categorics, binaris...)**\n",
    "\n",
    "    Kaggle ens ofereix la descripció de cada atribut, a la que nosaltres hi afegim el tipus:\n",
    "    \n",
    "    | Variable\t   |Definition                                          |Key                                             | Type      |\n",
    "    |--------------|----------------------------------------------------|------------------------------------------------|-----------|\n",
    "    | PassangerId  | Identification of the passenger                    |                                                | Numeric   |\n",
    "    | Survived     | Survival                                           | 0 = No, 1 = Yes                                | Binary    |\n",
    "    | Pclass       | Ticket class                                       | 1 = 1st, 2 = 2nd, 3 = 3rd                      | Categoric |\n",
    "    | Name         | Name of the passenger                              |                                                | Categoric |\n",
    "    | Sex          | Sex                                                |                                                | Categoric |\n",
    "    | Age          | Age in years                                       |                                                | Numeric   |\n",
    "    | SibSp        | # of siblings / spouses aboard the Titanic         |                                                | Numeric   |\n",
    "    | Parch        | # of parents / children aboard the Titanic         |                                                | Numeric   |\n",
    "    | Ticket       | Ticket number                                      |                                                | Categoric |\n",
    "    | Fare         | Passenger fare                                     |                                                | Numeric   |\n",
    "    | Cabin        | Cabin number                                       |                                                | Categoric |\n",
    "    | Embarked     | Port of Embarkation                                | C = Cherbourg, Q = Queenstown, S = Southampton | Categoric |"
   ]
  },
  {
   "cell_type": "code",
   "execution_count": 28,
   "metadata": {},
   "outputs": [
    {
     "name": "stdout",
     "output_type": "stream",
     "text": [
      "Columns: \n",
      "PassengerId      int64\n",
      "Survived         int64\n",
      "Pclass           int64\n",
      "Name            object\n",
      "Sex             object\n",
      "Age            float64\n",
      "SibSp            int64\n",
      "Parch            int64\n",
      "Ticket          object\n",
      "Fare           float64\n",
      "Cabin           object\n",
      "Embarked        object\n",
      "dtype: object\n"
     ]
    }
   ],
   "source": [
    "print(\"Columns: \")\n",
    "print(df.dtypes) \n",
    "\n",
    "bin_cols = [col for col in df if np.isin(df[col].dropna().unique(), [0, 1]).all()]   \n"
   ]
  },
  {
   "cell_type": "markdown",
   "metadata": {},
   "source": [
    "-  **Com és el *target*? Quantes categories diferents té?**  \n",
    "\n",
    "    El target és el camp ```Survived```, que és del tipus binari. Així doncs, té dues possibles categories depenent dels valors que pot adoptar: \n",
    "    \n",
    "    0 = No, 1 = Yes"
   ]
  },
  {
   "cell_type": "markdown",
   "metadata": {},
   "source": [
    "-  **Hi ha valors nuls (*NaNs*) a les dades?**  \n",
    "\n",
    "    Per saber-ho, mirem quin percentatge de NaNs tenim a cada un dels atributs:"
   ]
  },
  {
   "cell_type": "code",
   "execution_count": null,
   "metadata": {},
   "outputs": [
    {
     "data": {
      "text/plain": [
       "PassengerId   0.0000\n",
       "Survived      0.0000\n",
       "Pclass        0.0000\n",
       "Name          0.0000\n",
       "Sex           0.0000\n",
       "Age           0.1987\n",
       "SibSp         0.0000\n",
       "Parch         0.0000\n",
       "Ticket        0.0000\n",
       "Fare          0.0000\n",
       "Cabin         0.7710\n",
       "Embarked      0.0022\n",
       "dtype: float64"
      ]
     },
     "execution_count": 23,
     "metadata": {},
     "output_type": "execute_result"
    }
   ],
   "source": [
    "percent_nan_col = df.isna().mean(axis = 0)\n",
    "percent_nan_col\n"
   ]
  },
  {
   "cell_type": "markdown",
   "metadata": {},
   "source": [
    "Amb la mostra dels percentatges de NaNs, podem veure que els atributs ```Age```, ```Cabin``` i ```Embarked``` tenen valors nuls. En concret, ```Cabin``` és l'atribut que més valors nuls té (uns 77.1%), seguit d'```Age``` (uns 19.9%) i finalment ```Embarked``` (uns 0.2%).\n"
   ]
  },
  {
   "cell_type": "markdown",
   "metadata": {},
   "source": [
    "-  **Es poden observar correlacions entre les variables explicatives (*X*) i la variable objectiu (*y*)?**\n",
    "A partir de les llibreries que importem previament, podrem representar la correlació entre els diferents atributs de X i el target (y).\n",
    "    Ho farem de dues maneres, amb gràfics de punts i amb una matriu de correlació (heatmap).\n",
    "\n",
    "    **⚠️ ATENCIÓ:** Només mirarem les correlacions d'aquells atributs que són numèrics. Les variables categòriques necessitaràn ser codificades per a poder valorar-ne la correlació.  \n"
   ]
  },
  {
   "cell_type": "code",
   "execution_count": 24,
   "metadata": {},
   "outputs": [
    {
     "data": {
      "image/png": "[encoded data removed]",
      "text/plain": [
       "<Figure size 1200x200 with 6 Axes>"
      ]
     },
     "metadata": {},
     "output_type": "display_data"
    }
   ],
   "source": [
    "g= sns.pairplot(df,y_vars=['Survived'], x_vars=df.select_dtypes(include='number').columns.drop('Survived'), dropna=True)"
   ]
  },
  {
   "cell_type": "markdown",
   "metadata": {},
   "source": [
    "Veiem que, aparentment, no hi ha cap correlació visible entre els atributs de ```X``` i els valors de ```y```, ja que els punts es distribueixen igual en l'eix d'abscisses"
   ]
  },
  {
   "cell_type": "code",
   "execution_count": 25,
   "metadata": {},
   "outputs": [
    {
     "data": {
      "text/plain": [
       "<Axes: >"
      ]
     },
     "execution_count": 25,
     "metadata": {},
     "output_type": "execute_result"
    },
    {
     "data": {
      "image/png": "[encoded data removed]",
      "text/plain": [
       "<Figure size 800x560 with 2 Axes>"
      ]
     },
     "metadata": {},
     "output_type": "display_data"
    }
   ],
   "source": [
    "plt.figure(figsize=(10,7))\n",
    "sns.heatmap(df.corr(numeric_only=True),annot=True,linewidths=2)"
   ]
  },
  {
   "cell_type": "markdown",
   "metadata": {},
   "source": [
    "Veiem que, efectivament, la majoria d'atributs no té massa correlació amb el target ```y```, ja que els valors d'aquesta són propers a $0$. Els dos atributs amb més correlació són _Pclass_, amb una correlació negativa de $-0.34$, i _Fare_, amb una correlació positiva de $0.26$.\n",
    "\n",
    "De fet, veiem que aquests dos atributs són els que tenen una major correlació entre ells (negativa de $-0.55$), cosa que és comprensible, ja que intuitivament podem imaginar que els passatges d'una classe més rica (un valor de _Pclass_ menor) tindrien una major despesa durant el viatge (_Fare_)."
   ]
  },
  {
   "cell_type": "markdown",
   "metadata": {},
   "source": [
    "-  **Les etiquetes estan balancejades? (és a dir, hi ha una distribució similar entre categories?) Creus que la seva distribució pot afectar la classificació?**\n",
    "\n",
    "Per tal de veure com de ben distribuïts estan els valors dins de cada atribut, calcularem l'entropia de cada un d'ells. Per poder comparar-los i valorar-los correctament, normalitzarem el resultat entre $0$ i $1$ dividint-lo per l'entropia màxima de cada columna."
   ]
  },
  {
   "cell_type": "code",
   "execution_count": 26,
   "metadata": {},
   "outputs": [
    {
     "data": {
      "text/plain": [
       "PassengerId   1.0000\n",
       "Survived      0.9607\n",
       "Pclass        0.9081\n",
       "Name          1.0000\n",
       "Sex           0.9362\n",
       "Age           0.9036\n",
       "SibSp         0.4768\n",
       "Parch         0.4019\n",
       "Ticket        0.9810\n",
       "Fare          0.8854\n",
       "Cabin         0.9814\n",
       "Embarked      0.6920\n",
       "dtype: float64"
      ]
     },
     "execution_count": 26,
     "metadata": {},
     "output_type": "execute_result"
    }
   ],
   "source": [
    "entropias = df.apply(lambda col: entropy(col.value_counts(normalize=True), base=2)/np.log2(col.nunique()))\n",
    "entropias"
   ]
  },
  {
   "cell_type": "markdown",
   "metadata": {},
   "source": [
    "Veiem que l'entropia a l'atribut target (*Survived*) és propera a $1$, pel que el dataset complet està força balancejat respecte a les classes del nostre problema.\n",
    "\n",
    "Respecte els altres atributs, veiem que totes les etiquetes tenen una entropia propera a 1 excepte _SibSp_, _Parch_ i _Embarked_. Aquest fet no ens sorprenen, ja que abans hem vist que hi ha una correlació de les més altes entre atributs."
   ]
  },
  {
   "cell_type": "markdown",
   "metadata": {
    "id": "CuLtWQWpCl7T"
   },
   "source": [
    "### 2. Preprocessament (*normalització, tractament d’outliers, selecció de variables...*) – **2 punts**\n",
    "\n",
    "Un cop conegudes les dades disponibles, cal preparar-les per als algoritmes d’aprenentatge. Segons la tipologia de dades, es poden filtrar atributs, aplicar reductors de dimensionalitat, codificar categories textuals en valors numèrics, normalitzar, o bé detectar i eliminar *outliers*.  \n",
    "\n",
    "Consulteu la [documentació de *scikit-learn* sobre preprocessament](https://scikit-learn.org/stable/modules/preprocessing.html) per explorar les diferents opcions que ofereix.  \n",
    "\n",
    "**Preguntes:**  \n",
    "-  **Les dades estan normalitzades? Caldria fer-ho?**  \n",
    " \n"
   ]
  },
  {
   "cell_type": "markdown",
   "metadata": {},
   "source": [
    "-  **En cas de normalitzar, quin tipus de normalització seria més adient per a les vostres dades?**  \n"
   ]
  },
  {
   "cell_type": "markdown",
   "metadata": {},
   "source": [
    "-  **Hi ha moltes dades sense informació (*NaNs*)? Tingueu en compte que alguns mètodes no les toleren durant l’aprenentatge.**  \n",
    "   -  **Com afecta la classificació si les filtreu?**  \n",
    "   -  **I si les reompliu? Com ho faríeu? [Pista](https://scikit-learn.org/stable/modules/impute.html)**  \n"
   ]
  },
  {
   "cell_type": "markdown",
   "metadata": {},
   "source": [
    "-  **Hi ha dades categòriques? Quina seria la codificació més adequada?**  \n"
   ]
  },
  {
   "cell_type": "markdown",
   "metadata": {},
   "source": [
    "-  **Es poden extreure atributs addicionals a partir de les variables categòriques (per exemple, aplicant alguna regla sobre el text)?**  \n"
   ]
  },
  {
   "cell_type": "markdown",
   "metadata": {},
   "source": [
    "-  **Caldria aplicar PCA? Quins beneficis o inconvenients tindria?**  \n"
   ]
  },
  {
   "cell_type": "markdown",
   "metadata": {},
   "source": [
    "-  **Seria útil aplicar alguna tècnica de selecció de *features*? Ho trobeu necessari?**  \n"
   ]
  },
  {
   "cell_type": "markdown",
   "metadata": {},
   "source": [
    "-  **Es podrien aplicar *PolynomialFeatures* per millorar la classificació? En quins models tindria sentit fer-ho?** "
   ]
  },
  {
   "cell_type": "markdown",
   "metadata": {
    "id": "axc-wn2rCl7T"
   },
   "source": [
    "### 3. Selecció de mètriques – **1.5 punts**\n",
    "\n",
    "En aquest apartat ens centrarem en les mètriques de classificació ([documentació](https://scikit-learn.org/stable/modules/model_evaluation.html#classification-metrics)).  \n",
    "\n",
    "Per començar, entreneu una **regressió logística** (no cal separar *train-test*). A partir d’aquesta, genereu una sèrie de funcions per analitzar els resultats. Aquestes funcions serviran més endavant.  \n",
    "\n",
    "També caldrà triar la mètrica que farem servir posteriorment per escollir el millor model.  \n",
    "\n",
    "**Preguntes:**  \n",
    "-  A teoria hem vist el comportament de l’`accuracy_score` en dades no balancejades. Quina de les següents mètriques creieu que és més adequada pel vostre problema? Justifiqueu-ho.  \n",
    "   - `accuracy_score`  \n",
    "   - `f1_score`  \n",
    "   - `average_precision_score`  \n",
    "-  Abans d’entrenar models, genereu una suite de funcions per analitzar gràficament el rendiment.  \n",
    "   -  Mostreu la *Precision-Recall Curve* i la *ROC Curve*.  \n",
    "   -  Quina és més rellevant per al vostre dataset?  \n",
    "   -  Expliqueu amb les vostres paraules la diferència entre ambdues. [Pista](https://stats.stackexchange.com/questions/338826/auprc-vs-auc-roc)\n",
    "-  Què mostra el [`classification_report`](https://scikit-learn.org/stable/modules/generated/sklearn.metrics.classification_report.html)?  \n",
    "   -  Quina mètrica triareu per optimitzar la classificació en el vostre cas?  \n",
    "\n",
    "> **Nota:** En aquest apartat **no es valoren els resultats obtinguts**. El que s’avalua és:  \n",
    "> - L’elecció raonada de la mètrica de classificació.  \n",
    "> - Saber quines gràfiques cal generar per analitzar els resultats.  \n",
    ">   \n",
    "> Recordeu: abans de solucionar un problema cal tenir molt clara la mètrica d’error que s’utilitzarà, i aquesta decisió s’ha de prendre **abans d’entrenar models**.  \n"
   ]
  },
  {
   "cell_type": "code",
   "execution_count": null,
   "metadata": {},
   "outputs": [],
   "source": [
    "# Declaració de funcions per analitzar les funcions de les mètriques:\n",
    "def calculMetriques(y_true, y_pred, metric='accuracy', y_prob=None):\n",
    "    if metric == 'accuracy':\n",
    "        result = accuracy_score(y_true,y_pred)\n",
    "    elif metric == 'f1':\n",
    "        result = f1_score(y_true,y_pred)\n",
    "    elif metric == 'average_precision':\n",
    "        if y_prob is None:\n",
    "            raise ValueError(\"Para la métrica de 'average_precision' tienes que pasar una probabilidad\")\n",
    "        result = average_precision_score(y_true,y_pred)\n",
    "    else:\n",
    "        raise ValueError(\"Métrica no reconocida\")\n",
    "    \n",
    "    return result\n"
   ]
  },
  {
   "cell_type": "markdown",
   "metadata": {
    "id": "t8xe5r78Cl7T"
   },
   "source": [
    "### 4. Selecció de models amb validació creuada – **4 punts**\n",
    "\n",
    "Fent servir la mètrica seleccionada a l’apartat anterior, cal escollir una sèrie de models i, mitjançant **validació creuada**, seleccionar el millor model amb els seus hiperparàmetres òptims, trobats a través d’una cerca (*hyperparameter search*).  \n",
    "\n",
    "Aquesta tasca s’emmarca dins de l’aprenentatge computacional **supervisat**.  \n",
    "A *scikit-learn* disposem de diverses tècniques ([documentació](https://scikit-learn.org/stable/supervised_learning.html)). A classe hem vist tècniques com:  \n",
    "- Regressió logística  \n",
    "- SVM amb diferents *kernels*  \n",
    "- K-Nearest Neighbours (KNN)  \n",
    "- Arbres de decisió  \n",
    "- Random Forest  \n",
    "- Gradient Boosting  \n",
    "\n",
    "Per aquest apartat es demana seleccionar **un mínim de 4 models** (per exemple: regressió logística, random forest, KNN, SVM).  \n",
    "\n",
    "**Preguntes:**  \n",
    "-  Quins models heu considerat? Per què els heu seleccionat?  \n",
    "-  Fent servir validació creuada, escolliu el millor model (amb hiperparàmetres per defecte).  \n",
    "   -  Per què és important fer servir validació creuada?  \n",
    "   -  Heu de fer servir algun [tipus específic de validació creuada](https://scikit-learn.org/stable/modules/cross_validation.html)?  \n",
    "-  Seleccioneu un conjunt d’**hiperparàmetres** a provar per a cada model i realitzeu la cerca corresponent.  \n",
    "   -  Hi ha algun model que es pugui descartar de primeres? Per què?  \n",
    "-  Mostreu els resultats en una taula amb: model, experiments realitzats, resultats (train i test) i, opcionalment, temps d’entrenament.  \n",
    "-  Quin tipus de **K-fold** heu escollit per a la selecció de models i per a la selecció amb hiperparàmetres?  \n",
    "   -  Com afecta el nombre de folds al resultat final?  \n",
    "-  Quines formes de buscar el millor paràmetre heu trobat?  \n",
    "   -  Són costoses computacionalment?  \n",
    "   -  [Documentació *Grid Search*](https://scikit-learn.org/stable/modules/grid_search.html)  \n",
    "   -  Quina heu seleccionat?  \n",
    "-  Si disposem de recursos limitats (per exemple, un PC durant 1 hora), quin mètode creieu que donarà millor resultat final?  \n",
    "-  Existeixen mètodes de cerca més eficients? ([scikit-optimize](https://scikit-optimize.github.io/stable/))  \n",
    "-  Opcional: Configureu diferents mètodes de cerca per executar-se durant el mateix temps (0,5–1 h) amb el model i el mètode de cross-validation escollit.  \n",
    "   -  Analitzeu quin ha arribat a una millor solució.  \n",
    "   -  (Ajuda: estimeu el temps d’entrenament d’un model per trobar el número d’iteracions possibles.)  \n",
    "\n"
   ]
  },
  {
   "cell_type": "markdown",
   "metadata": {
    "id": "Hx-3b7v2TwJ3"
   },
   "source": [
    "### 5. Anàlisi final – **1.5 punts**\n",
    "\n",
    "Un cop seleccionat el millor model amb els hiperparàmetres òptims, cal elaborar un **report final** amb els resultats obtinguts.  \n",
    "\n",
    "**Preguntes:**  \n",
    "-  Mostreu les corbes ROC/PR (la que hàgiu escollit a l’apartat 3) i interpreteu els resultats.  \n",
    "-  Analitzeu en detall les diferents mètriques que considereu adients.  \n",
    "  -  Comentar breument com podríeu aplicar aquest model en un futur (cas d’ús).  \n",
    "-  Quines possibles millores es podrien fer al vostre model?  "
   ]
  }
 ],
 "metadata": {
  "colab": {
   "provenance": []
  },
  "kernelspec": {
   "display_name": "Python 3",
   "language": "python",
   "name": "python3"
  },
  "language_info": {
   "codemirror_mode": {
    "name": "ipython",
    "version": 3
   },
   "file_extension": ".py",
   "mimetype": "text/x-python",
   "name": "python",
   "nbconvert_exporter": "python",
   "pygments_lexer": "ipython3",
   "version": "3.13.1"
  }
 },
 "nbformat": 4,
 "nbformat_minor": 4
}
